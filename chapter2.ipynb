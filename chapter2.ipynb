{
 "cells": [
  {
   "cell_type": "code",
   "execution_count": 1,
   "id": "b8177459-5e78-4786-b0ae-0f787380c201",
   "metadata": {},
   "outputs": [
    {
     "data": {
      "text/plain": [
       "[1.9039478532715999,\n",
       " 0.770888764965119,\n",
       " 0.3088803414767481,\n",
       " -0.8211418371218072,\n",
       " 1.4866850366470425,\n",
       " 0.39449393789302845,\n",
       " 0.7537845208861522]"
      ]
     },
     "execution_count": 1,
     "metadata": {},
     "output_type": "execute_result"
    }
   ],
   "source": [
    "import numpy as np\n",
    "data = [np.random.standard_normal() for i in range(7)]\n",
    "data"
   ]
  },
  {
   "cell_type": "code",
   "execution_count": 1,
   "id": "1860368e-b8cd-43de-989c-c34e3401950a",
   "metadata": {},
   "outputs": [],
   "source": [
    "an_apple = 27\n",
    "an_example = 42\n"
   ]
  },
  {
   "cell_type": "code",
   "execution_count": null,
   "id": "7fb726b1-0f45-460b-9b00-41f5fb224003",
   "metadata": {},
   "outputs": [],
   "source": [
    "an"
   ]
  }
 ],
 "metadata": {
  "kernelspec": {
   "display_name": "Python 3 (ipykernel)",
   "language": "python",
   "name": "python3"
  },
  "language_info": {
   "codemirror_mode": {
    "name": "ipython",
    "version": 3
   },
   "file_extension": ".py",
   "mimetype": "text/x-python",
   "name": "python",
   "nbconvert_exporter": "python",
   "pygments_lexer": "ipython3",
   "version": "3.12.3"
  }
 },
 "nbformat": 4,
 "nbformat_minor": 5
}
