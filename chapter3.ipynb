{
 "cells": [
  {
   "cell_type": "markdown",
   "id": "f067ef72-1353-4fa1-a6da-61f436a99ddf",
   "metadata": {},
   "source": [
    "## Tuples"
   ]
  },
  {
   "cell_type": "markdown",
   "id": "4cebc531-9ab0-4f93-8389-0a4c5e05e851",
   "metadata": {},
   "source": [
    "### Unpack tuples"
   ]
  },
  {
   "cell_type": "code",
   "execution_count": 1,
   "id": "68b88d1f-a320-4bc3-a60f-62898ec4fbfb",
   "metadata": {},
   "outputs": [
    {
     "data": {
      "text/plain": [
       "7"
      ]
     },
     "execution_count": 1,
     "metadata": {},
     "output_type": "execute_result"
    }
   ],
   "source": [
    "tup = 4 , 5 , (6 , 7)\n",
    "a , b , (c , d) = tup\n",
    "d"
   ]
  },
  {
   "cell_type": "code",
   "execution_count": 2,
   "id": "f7fc2477-a851-49ec-a514-33a4f5a5b7bd",
   "metadata": {},
   "outputs": [
    {
     "name": "stdout",
     "output_type": "stream",
     "text": [
      "a=1  b=2  c=3\n",
      "a=4  b=5  c=6\n",
      "a=7  b=8  c=9\n"
     ]
    }
   ],
   "source": [
    "seq = [(1 , 2 , 3) , (4 , 5 , 6) , (7 , 8 , 9)]\n",
    "for a ,b , c in seq:\n",
    "    print(f'a={a}  b={b}  c={c}')"
   ]
  },
  {
   "cell_type": "code",
   "execution_count": 5,
   "id": "dfd18078-bc0a-41a8-a0e9-51517f920787",
   "metadata": {},
   "outputs": [
    {
     "name": "stdout",
     "output_type": "stream",
     "text": [
      "a=1  b=2  rest=[3, 4, 5]\n"
     ]
    }
   ],
   "source": [
    "values = 1 , 2 , 3 , 4 , 5\n",
    "a , b , *rest = values\n",
    "print(f'a={a}  b={b}  rest={rest}')"
   ]
  },
  {
   "cell_type": "code",
   "execution_count": 6,
   "id": "87dc0c0d-079a-4d25-bc75-5504be75417b",
   "metadata": {},
   "outputs": [
    {
     "name": "stdout",
     "output_type": "stream",
     "text": [
      "a=1  b=2  \n"
     ]
    }
   ],
   "source": [
    "values = 1 , 2 , 3 , 4 , 5\n",
    "a , b , *_ = values\n",
    "print(f'a={a}  b={b}  ')"
   ]
  },
  {
   "cell_type": "markdown",
   "id": "393db6cd-4ece-4d96-89be-5852096a6a43",
   "metadata": {},
   "source": [
    "### Tuple methods"
   ]
  },
  {
   "cell_type": "code",
   "execution_count": 8,
   "id": "7544efe5-d22e-4819-b315-0394be5d6ae2",
   "metadata": {},
   "outputs": [
    {
     "data": {
      "text/plain": [
       "4"
      ]
     },
     "execution_count": 8,
     "metadata": {},
     "output_type": "execute_result"
    }
   ],
   "source": [
    "a = (1, 2, 2, 2, 3, 4, 2)\n",
    "a.count(2)"
   ]
  },
  {
   "cell_type": "code",
   "execution_count": 9,
   "id": "45444c5d-5955-4566-8fe4-5f9e04c6b928",
   "metadata": {},
   "outputs": [
    {
     "data": {
      "text/plain": [
       "1"
      ]
     },
     "execution_count": 9,
     "metadata": {},
     "output_type": "execute_result"
    }
   ],
   "source": [
    "a.count(1)"
   ]
  },
  {
   "cell_type": "markdown",
   "id": "a70d2dd4-0fb3-4f50-a5a3-c0b970ddffe6",
   "metadata": {},
   "source": [
    "## List"
   ]
  },
  {
   "cell_type": "code",
   "execution_count": 36,
   "id": "c95ab397-fa2f-40d9-a0cc-9c63d4d27955",
   "metadata": {
    "scrolled": true
   },
   "outputs": [
    {
     "data": {
      "text/plain": [
       "['foo', 'bar', 'baz']"
      ]
     },
     "execution_count": 36,
     "metadata": {},
     "output_type": "execute_result"
    }
   ],
   "source": [
    "tup = (\"foo\", \"bar\", \"baz\")\n",
    "b_list = list(tup)\n",
    "b_list"
   ]
  },
  {
   "cell_type": "code",
   "execution_count": 37,
   "id": "87f37df9-f36d-4912-97f5-d0a789d6d50e",
   "metadata": {},
   "outputs": [
    {
     "data": {
      "text/plain": [
       "range(0, 10)"
      ]
     },
     "execution_count": 37,
     "metadata": {},
     "output_type": "execute_result"
    }
   ],
   "source": [
    "gen = range(10)\n",
    "gen"
   ]
  },
  {
   "cell_type": "code",
   "execution_count": 38,
   "id": "defdd376-60ec-4e1f-a97b-ba8e99f75732",
   "metadata": {},
   "outputs": [
    {
     "data": {
      "text/plain": [
       "[0, 1, 2, 3, 4, 5, 6, 7, 8, 9]"
      ]
     },
     "execution_count": 38,
     "metadata": {},
     "output_type": "execute_result"
    }
   ],
   "source": [
    "list(gen)"
   ]
  },
  {
   "cell_type": "markdown",
   "id": "2c060dc4-bba9-4055-98a9-1bda048fea7c",
   "metadata": {},
   "source": [
    "### Append , insert , remove"
   ]
  },
  {
   "cell_type": "code",
   "execution_count": 39,
   "id": "8e7c5919-788e-4654-a1cd-f260c268ea13",
   "metadata": {},
   "outputs": [
    {
     "data": {
      "text/plain": [
       "['foo', 'bar', 'baz', 'dwarf']"
      ]
     },
     "execution_count": 39,
     "metadata": {},
     "output_type": "execute_result"
    }
   ],
   "source": [
    "b_list.append(\"dwarf\")\n",
    "b_list"
   ]
  },
  {
   "cell_type": "code",
   "execution_count": 40,
   "id": "c40c6178-fdd7-4912-9505-49d0ed447569",
   "metadata": {},
   "outputs": [
    {
     "data": {
      "text/plain": [
       "['foo', 'red', 'bar', 'baz', 'dwarf']"
      ]
     },
     "execution_count": 40,
     "metadata": {},
     "output_type": "execute_result"
    }
   ],
   "source": [
    "b_list.insert(1, \"red\")\n",
    "b_list"
   ]
  },
  {
   "cell_type": "code",
   "execution_count": 41,
   "id": "acd8c548-7a06-45a4-ae59-5eb84ddc637e",
   "metadata": {},
   "outputs": [
    {
     "data": {
      "text/plain": [
       "['foo', 'red', 'bar', 'baz', 'dwarf', 'red']"
      ]
     },
     "execution_count": 41,
     "metadata": {},
     "output_type": "execute_result"
    }
   ],
   "source": [
    "b_list.insert(len(b_list), \"red\")\n",
    "b_list"
   ]
  },
  {
   "cell_type": "code",
   "execution_count": 42,
   "id": "6251c001-ab9d-49a6-8847-b05f3edd548b",
   "metadata": {},
   "outputs": [
    {
     "data": {
      "text/plain": [
       "['foo', 'red', 'baz', 'dwarf', 'red']"
      ]
     },
     "execution_count": 42,
     "metadata": {},
     "output_type": "execute_result"
    }
   ],
   "source": [
    "# bar is removed\n",
    "b_list.pop(2)\n",
    "b_list"
   ]
  },
  {
   "cell_type": "code",
   "execution_count": 43,
   "id": "0c95460e-3a80-483b-9159-bc85e200e7a0",
   "metadata": {},
   "outputs": [
    {
     "data": {
      "text/plain": [
       "['foo', 'baz', 'dwarf', 'red']"
      ]
     },
     "execution_count": 43,
     "metadata": {},
     "output_type": "execute_result"
    }
   ],
   "source": [
    "b_list.remove('red')\n",
    "b_list"
   ]
  },
  {
   "cell_type": "markdown",
   "id": "2b086497-6e11-49e7-9ee2-02f96b908f2a",
   "metadata": {},
   "source": [
    "### Check if element exists in a list"
   ]
  },
  {
   "cell_type": "code",
   "execution_count": 44,
   "id": "2385730e-e993-4882-b143-8d127c7a25a4",
   "metadata": {},
   "outputs": [
    {
     "data": {
      "text/plain": [
       "True"
      ]
     },
     "execution_count": 44,
     "metadata": {},
     "output_type": "execute_result"
    }
   ],
   "source": [
    "'dwarf' in b_list"
   ]
  },
  {
   "cell_type": "markdown",
   "id": "b2c5a685-e32e-4ca2-8182-0e7f03f03e7a",
   "metadata": {},
   "source": [
    "### Concatenating and combining lists"
   ]
  },
  {
   "cell_type": "code",
   "execution_count": 45,
   "id": "78380479-d10e-4991-a28d-14615fc53f53",
   "metadata": {},
   "outputs": [
    {
     "data": {
      "text/plain": [
       "[4, None, 'foo', 7, 8, (2, 3)]"
      ]
     },
     "execution_count": 45,
     "metadata": {},
     "output_type": "execute_result"
    }
   ],
   "source": [
    "[4, None, \"foo\"] + [7, 8, (2, 3)]"
   ]
  },
  {
   "cell_type": "code",
   "execution_count": 48,
   "id": "7557822d-9caf-4bb3-be7e-ca99983b6b67",
   "metadata": {},
   "outputs": [
    {
     "data": {
      "text/plain": [
       "[4, None, 'foo', 7, 8, (2, 3)]"
      ]
     },
     "execution_count": 48,
     "metadata": {},
     "output_type": "execute_result"
    }
   ],
   "source": [
    "x = [4, None, \"foo\"]\n",
    "x.extend([7, 8, (2, 3)])\n",
    "x"
   ]
  },
  {
   "cell_type": "markdown",
   "id": "56a6f3e7-7d24-43bc-bedd-129e7077e4f0",
   "metadata": {},
   "source": [
    "### Sort\n"
   ]
  },
  {
   "cell_type": "code",
   "execution_count": 74,
   "id": "86023803-4f1a-4b7a-ac69-48e8b4750285",
   "metadata": {},
   "outputs": [
    {
     "data": {
      "text/plain": [
       "['He', 'foxes', 'saw', 'six', 'small']"
      ]
     },
     "execution_count": 74,
     "metadata": {},
     "output_type": "execute_result"
    }
   ],
   "source": [
    "b = [\"saw\", \"small\", \"He\", \"foxes\", \"six\"]\n",
    "b.sort()\n",
    "b"
   ]
  },
  {
   "cell_type": "code",
   "execution_count": 75,
   "id": "e69129f9-746f-443f-bc4f-dea9709a3895",
   "metadata": {},
   "outputs": [
    {
     "data": {
      "text/plain": [
       "['He', 'saw', 'six', 'small', 'foxes']"
      ]
     },
     "execution_count": 75,
     "metadata": {},
     "output_type": "execute_result"
    }
   ],
   "source": [
    "b = [\"saw\", \"small\", \"He\", \"foxes\", \"six\"]\n",
    "b.sort(key=len)\n",
    "b"
   ]
  },
  {
   "cell_type": "code",
   "execution_count": 76,
   "id": "0290d8b6-5a25-4ef4-938e-5c228307861b",
   "metadata": {},
   "outputs": [
    {
     "data": {
      "text/plain": [
       "['He', 'saw', 'six', 'small', 'foxes', 'ab']"
      ]
     },
     "execution_count": 76,
     "metadata": {},
     "output_type": "execute_result"
    }
   ],
   "source": [
    "b.append('ab')\n",
    "b"
   ]
  },
  {
   "cell_type": "code",
   "execution_count": 77,
   "id": "54b01187-b5d7-4f40-9941-e0f349edebf0",
   "metadata": {},
   "outputs": [
    {
     "data": {
      "text/plain": [
       "['ab', 'foxes', 'small', 'six', 'saw', 'He']"
      ]
     },
     "execution_count": 77,
     "metadata": {},
     "output_type": "execute_result"
    }
   ],
   "source": [
    "b.reverse()\n",
    "b"
   ]
  },
  {
   "cell_type": "code",
   "execution_count": 78,
   "id": "41a7934a-82aa-4f89-b7f7-109b1b71c18e",
   "metadata": {},
   "outputs": [
    {
     "data": {
      "text/plain": [
       "['He', 'saw', 'six', 'small', 'foxes', 'ab']"
      ]
     },
     "execution_count": 78,
     "metadata": {},
     "output_type": "execute_result"
    }
   ],
   "source": [
    "b[::-1]"
   ]
  },
  {
   "cell_type": "markdown",
   "id": "703f48be-71c7-46f3-83d9-4587e4714937",
   "metadata": {},
   "source": [
    "## Dictionary"
   ]
  },
  {
   "cell_type": "code",
   "execution_count": 86,
   "id": "ff69270b-c1b0-4b2d-b4e8-3f12fababcfd",
   "metadata": {},
   "outputs": [
    {
     "name": "stdout",
     "output_type": "stream",
     "text": [
      "key=a value=some value\n",
      "key=b value=[1, 2, 3, 4]\n"
     ]
    }
   ],
   "source": [
    "b = {\"a\": \"some value\", \"b\": [1, 2, 3, 4]}\n",
    "for key , value in b.items():\n",
    "    print(f'key={key} value={value}')"
   ]
  },
  {
   "cell_type": "code",
   "execution_count": 87,
   "id": "2398429f-b8d9-484a-8b0c-2cc80a5db19c",
   "metadata": {},
   "outputs": [
    {
     "data": {
      "text/plain": [
       "{'b': [1, 2, 3, 4]}"
      ]
     },
     "execution_count": 87,
     "metadata": {},
     "output_type": "execute_result"
    }
   ],
   "source": [
    "del b['a']\n",
    "b"
   ]
  },
  {
   "cell_type": "code",
   "execution_count": 88,
   "id": "5ef28101-56d9-40f0-9e76-78000c5cd5ea",
   "metadata": {},
   "outputs": [
    {
     "data": {
      "text/plain": [
       "{'b': [1, 2, 3, 4], 'd': 'foo', 'c': 12}"
      ]
     },
     "execution_count": 88,
     "metadata": {},
     "output_type": "execute_result"
    }
   ],
   "source": [
    "b.update({\"d\": \"foo\", \"c\": 12})\n",
    "b"
   ]
  },
  {
   "cell_type": "markdown",
   "id": "4623e3a1-26fa-4994-8e94-aa3343b36ca6",
   "metadata": {},
   "source": [
    "### set default"
   ]
  },
  {
   "cell_type": "code",
   "execution_count": 89,
   "id": "c5af1197-a956-48d0-9081-047109e19503",
   "metadata": {},
   "outputs": [
    {
     "data": {
      "text/plain": [
       "{'a': ['apple', 'atom'], 'b': ['bat', 'bar', 'book']}"
      ]
     },
     "execution_count": 89,
     "metadata": {},
     "output_type": "execute_result"
    }
   ],
   "source": [
    "words = [\"apple\", \"bat\", \"bar\", \"atom\", \"book\"]\n",
    "by_letter = {}\n",
    "for word in words:\n",
    "    letter = word[0]\n",
    "    by_letter.setdefault(letter, []).append(word)\n",
    "\n",
    "by_letter"
   ]
  },
  {
   "cell_type": "markdown",
   "id": "86dae39e-2833-4daf-9e22-f663366492da",
   "metadata": {},
   "source": [
    "### default dict"
   ]
  },
  {
   "cell_type": "code",
   "execution_count": 90,
   "id": "c556be71-ea3e-4b4f-b5d6-cf21128db6fa",
   "metadata": {},
   "outputs": [
    {
     "data": {
      "text/plain": [
       "defaultdict(list, {'a': ['apple', 'atom'], 'b': ['bat', 'bar', 'book']})"
      ]
     },
     "execution_count": 90,
     "metadata": {},
     "output_type": "execute_result"
    }
   ],
   "source": [
    "from collections import defaultdict\n",
    "by_letter = defaultdict(list)\n",
    "for word in words:\n",
    "    letter = word[0]\n",
    "    by_letter.setdefault(letter, []).append(word)\n",
    "by_letter"
   ]
  },
  {
   "cell_type": "markdown",
   "id": "b3a18357-1007-43a1-afbf-7fa82a1b0183",
   "metadata": {},
   "source": [
    "## Set"
   ]
  },
  {
   "cell_type": "markdown",
   "id": "4f03d577-93e2-403b-8395-47bb8e59c085",
   "metadata": {},
   "source": [
    "### Union"
   ]
  },
  {
   "cell_type": "code",
   "execution_count": 91,
   "id": "dffbb34c-16a3-433d-ab08-ed557739ea17",
   "metadata": {},
   "outputs": [
    {
     "data": {
      "text/plain": [
       "{1, 2, 3, 4, 5, 6, 7, 8}"
      ]
     },
     "execution_count": 91,
     "metadata": {},
     "output_type": "execute_result"
    }
   ],
   "source": [
    "a = {1, 2, 3, 4, 5}\n",
    "b = {3, 4, 5, 6, 7, 8}\n",
    "a.union(b)"
   ]
  },
  {
   "cell_type": "code",
   "execution_count": 92,
   "id": "32a47791-facb-4ce9-9467-381234115f89",
   "metadata": {},
   "outputs": [
    {
     "data": {
      "text/plain": [
       "{1, 2, 3, 4, 5}"
      ]
     },
     "execution_count": 92,
     "metadata": {},
     "output_type": "execute_result"
    }
   ],
   "source": [
    "a"
   ]
  },
  {
   "cell_type": "code",
   "execution_count": 93,
   "id": "1fa2e3d6-8bd7-4890-b5dd-c3e9280d65ef",
   "metadata": {
    "scrolled": true
   },
   "outputs": [
    {
     "data": {
      "text/plain": [
       "{1, 2, 3, 4, 5, 6, 7, 8}"
      ]
     },
     "execution_count": 93,
     "metadata": {},
     "output_type": "execute_result"
    }
   ],
   "source": [
    "a|b"
   ]
  },
  {
   "cell_type": "markdown",
   "id": "9b7b7771-f470-442b-afed-7121eebebf24",
   "metadata": {},
   "source": [
    "### intersect"
   ]
  },
  {
   "cell_type": "code",
   "execution_count": 94,
   "id": "11a25d08-cf6a-44fb-b6f2-174a14bf3d4b",
   "metadata": {},
   "outputs": [
    {
     "data": {
      "text/plain": [
       "{3, 4, 5}"
      ]
     },
     "execution_count": 94,
     "metadata": {},
     "output_type": "execute_result"
    }
   ],
   "source": [
    "a&b"
   ]
  },
  {
   "cell_type": "code",
   "execution_count": 95,
   "id": "4963cc04-1cae-48da-8ffc-e52b2fbdf3b3",
   "metadata": {
    "scrolled": true
   },
   "outputs": [
    {
     "data": {
      "text/plain": [
       "{3, 4, 5}"
      ]
     },
     "execution_count": 95,
     "metadata": {},
     "output_type": "execute_result"
    }
   ],
   "source": [
    "a.intersection(b)"
   ]
  },
  {
   "cell_type": "markdown",
   "id": "3f614745-3a47-48e2-af79-0bd188d93517",
   "metadata": {},
   "source": [
    "### difference The elements in a that are not in b"
   ]
  },
  {
   "cell_type": "code",
   "execution_count": 96,
   "id": "2e0907e5-7efd-48c9-b111-da4083f468ea",
   "metadata": {},
   "outputs": [
    {
     "data": {
      "text/plain": [
       "{1, 2}"
      ]
     },
     "execution_count": 96,
     "metadata": {},
     "output_type": "execute_result"
    }
   ],
   "source": [
    "a - b"
   ]
  },
  {
   "cell_type": "markdown",
   "id": "15dd19c9-4f9f-4632-9e01-7b5e191075b9",
   "metadata": {},
   "source": [
    "### symmetric_diff All of the elements in either a or b but not both"
   ]
  },
  {
   "cell_type": "code",
   "execution_count": 97,
   "id": "5703a2b3-2ce1-408a-a1ae-52bf64ec2ec9",
   "metadata": {},
   "outputs": [
    {
     "data": {
      "text/plain": [
       "{1, 2, 6, 7, 8}"
      ]
     },
     "execution_count": 97,
     "metadata": {},
     "output_type": "execute_result"
    }
   ],
   "source": [
    "a ^ b"
   ]
  },
  {
   "cell_type": "code",
   "execution_count": null,
   "id": "03b9fee1-2c38-4a3a-9d67-d5d05fbc2610",
   "metadata": {},
   "outputs": [],
   "source": []
  }
 ],
 "metadata": {
  "kernelspec": {
   "display_name": "Python 3 (ipykernel)",
   "language": "python",
   "name": "python3"
  },
  "language_info": {
   "codemirror_mode": {
    "name": "ipython",
    "version": 3
   },
   "file_extension": ".py",
   "mimetype": "text/x-python",
   "name": "python",
   "nbconvert_exporter": "python",
   "pygments_lexer": "ipython3",
   "version": "3.12.3"
  }
 },
 "nbformat": 4,
 "nbformat_minor": 5
}
